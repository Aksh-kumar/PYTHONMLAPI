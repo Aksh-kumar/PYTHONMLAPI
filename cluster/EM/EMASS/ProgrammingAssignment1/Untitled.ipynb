{
 "cells": [
  {
   "cell_type": "code",
   "execution_count": 1,
   "metadata": {},
   "outputs": [],
   "source": [
    "import numpy as np\n",
    "import matplotlib.pyplot as plt \n",
    "import copy\n",
    "import scipy\n",
    "from scipy.stats import multivariate_normal\n",
    "import pandas as pd\n",
    "from functools import reduce"
   ]
  },
  {
   "cell_type": "code",
   "execution_count": 39,
   "metadata": {},
   "outputs": [],
   "source": [
    "# compute ln(exp^e1+expe2....)\n",
    "def ln_sum_exp(Z):\n",
    "    return np.log(np.sum(np.exp(Z)))\n",
    "\n",
    "def get_log_likelihood(data, weights, means, covs):\n",
    "    n_clusters = len(means)\n",
    "    dimension = len(data[0]) \n",
    "    sum_ln_exp = 0\n",
    "    for d in data:\n",
    "        Z = np.zeros(n_clusters)\n",
    "        for k in range(n_clusters):\n",
    "            # compute exponential term in multivariate_normal\n",
    "            delta = np.array(d) - means[k]\n",
    "            exponent_term = np.dot(delta.T, np.dot(np.linalg.inv(covs[k]), delta))\n",
    "            # Compute loglikelihood contribution for this data point and this cluster\n",
    "            Z[k] += np.log(weights[k])\n",
    "            Z[k] -= 1/2. * (dimension * np.log(2*np.pi) + np.log(np.linalg.det(covs[k])) + exponent_term)\n",
    "        # Increment loglikelihood contribution of this data point across all clusters\n",
    "        sum_ln_exp += ln_sum_exp(Z)\n",
    "    return sum_ln_exp"
   ]
  },
  {
   "cell_type": "code",
   "execution_count": 5,
   "metadata": {},
   "outputs": [],
   "source": [
    "# E step - get the responsibility if cluster parameter is given\n",
    "def get_responsibilities(data, weights, means, covariances):\n",
    "    n_data = len(data)\n",
    "    n_clusters = len(means)\n",
    "    resp = np.zeros((n_data, n_clusters))\n",
    "    for i in range(n_data):\n",
    "        for k in range(n_clusters):\n",
    "            resp[i, k] = weights[k]* multivariate_normal.pdf(data[i],means[k],covariances[k])\n",
    "    # Add up responsibilities over each data point and normalize\n",
    "    row_sums = resp.sum(axis=1)[:, np.newaxis]\n",
    "    resp = resp / row_sums\n",
    "    return resp"
   ]
  },
  {
   "cell_type": "code",
   "execution_count": 19,
   "metadata": {},
   "outputs": [],
   "source": [
    "#M-step update the parameter if given cluster responsibilty is given\n",
    "# get sum of all responsibilty for a particular cluster\n",
    "# resp = nxk metrix i.e resp[number_of_label, nuber_of_cluster]\n",
    "get_soft_counts = lambda resp : np.sum(resp, axis=0)"
   ]
  },
  {
   "cell_type": "code",
   "execution_count": 20,
   "metadata": {},
   "outputs": [],
   "source": [
    "# get list of weights which represents how much each cluster represented over all data points\n",
    "# parameter count list of sum of soft counts for all clusters\n",
    "def get_weights(counts):\n",
    "    n_clusters = len(counts)\n",
    "    sum_count = np.sum(counts)\n",
    "    weights = np.array(list(map(lambda k : counts[k]/sum_count, range(n_clusters))))\n",
    "    return weights"
   ]
  },
  {
   "cell_type": "code",
   "execution_count": 63,
   "metadata": {},
   "outputs": [],
   "source": [
    "def get_means(data, resp, counts):\n",
    "    n_clusters = len(counts)\n",
    "    n_data = len(data)\n",
    "    means = np.zeros((n_clusters, len(data[0])))\n",
    "    for k in range(n_clusters):\n",
    "        weighted_sum = reduce(lambda x,i : x + resp[i,k]*data[i], range(n_data), 0)\n",
    "        means[k] = weighted_sum/counts[k]\n",
    "    return means"
   ]
  },
  {
   "cell_type": "code",
   "execution_count": 55,
   "metadata": {},
   "outputs": [
    {
     "name": "stdout",
     "output_type": "stream",
     "text": [
      "[[0.10512733 0.89487267]\n",
      " [0.46468164 0.53531836]]\n",
      "Checkpoint passed!\n"
     ]
    }
   ],
   "source": [
    "data_tmp = np.array([[1.,2.],[-1.,-2.]])\n",
    "resp = get_responsibilities(data=data_tmp, weights=np.array([0.3, 0.7]),\n",
    "                                means=[np.array([0.,0.]), np.array([1.,1.])],\n",
    "                                covariances=[np.array([[1.5, 0.],[0.,2.5]]), np.array([[1.,1.],[1.,2.]])])\n",
    "print(resp)\n",
    "counts = get_soft_counts(resp)\n",
    "means = get_means(data_tmp, resp, counts)\n",
    "\n",
    "if np.allclose(means, np.array([[-0.6310085, -1.262017], [0.25140299, 0.50280599]])):\n",
    "    print('Checkpoint passed!')\n",
    "else:\n",
    "    print('Check your code again.')"
   ]
  },
  {
   "cell_type": "code",
   "execution_count": 64,
   "metadata": {},
   "outputs": [],
   "source": [
    "# update covariances metrix from responsibity metrix, means and counts\n",
    "def get_covariances(data, resp, counts, means):\n",
    "    n_clusters = len(counts)\n",
    "    dimension = len(data[0])\n",
    "    n_data = len(data)\n",
    "    covariances = np.zeros((n_clusters, dimension, dimension))\n",
    "    for k in range(n_clusters):\n",
    "        weighted_sum = reduce(lambda x, i :x + resp[i,k] * np.outer((data[i]-means[k]), (data[i]-means[k]).T),\n",
    "                              range(n_data), np.zeros((dimension, dimension)))\n",
    "        covariances[k] = weighted_sum/counts[k]\n",
    "    return covariances"
   ]
  },
  {
   "cell_type": "code",
   "execution_count": 57,
   "metadata": {},
   "outputs": [
    {
     "name": "stdout",
     "output_type": "stream",
     "text": [
      "Checkpoint passed!\n"
     ]
    }
   ],
   "source": [
    "data_tmp = np.array([[1.,2.],[-1.,-2.]])\n",
    "resp = get_responsibilities(data=data_tmp, weights=np.array([0.3, 0.7]),\n",
    "                                means=[np.array([0.,0.]), np.array([1.,1.])],\n",
    "                                covariances=[np.array([[1.5, 0.],[0.,2.5]]), np.array([[1.,1.],[1.,2.]])])\n",
    "counts = get_soft_counts(resp)\n",
    "means = get_means(data_tmp, resp, counts)\n",
    "covariances = get_covariances(data_tmp, resp, counts, means)\n",
    "\n",
    "if np.allclose(covariances[0], np.array([[0.60182827, 1.20365655], [1.20365655, 2.4073131]])) and \\\n",
    "    np.allclose(covariances[1], np.array([[ 0.93679654, 1.87359307], [1.87359307, 3.74718614]])):\n",
    "    print('Checkpoint passed!')\n",
    "else:\n",
    "    print('Check your code again.')"
   ]
  },
  {
   "cell_type": "code",
   "execution_count": 66,
   "metadata": {},
   "outputs": [],
   "source": [
    "# EM algorithm\n",
    "def EM(data, init_means, init_covariances, init_weights, maxiter=1000, thresh=1e-4, verbose=True):\n",
    "    # Make copies of initial parameters\n",
    "    means = init_means[:]\n",
    "    covariances = init_covariances[:]\n",
    "    weights = init_weights[:]\n",
    "    # Infer dimensions of dataset and the number of clusters\n",
    "    n_data = len(data)\n",
    "    dimension = len(data[0])\n",
    "    n_clusters = len(means)\n",
    "    # Initialize some useful variables\n",
    "    resp = np.zeros((n_data, n_clusters))\n",
    "    ll = get_log_likelihood(data, weights, means, covariances)\n",
    "    ll_list = [ll]\n",
    "    for it in range(maxiter):\n",
    "        if verbose and it % 5 == 0:\n",
    "            print(\"Iteration %s\" % it)\n",
    "        # E-step: calculate responsibilities\n",
    "        resp = get_responsibilities(data, weights, means, covariances)\n",
    "        # M-step calculate cluster parameter\n",
    "        counts = get_soft_counts(resp)\n",
    "        weights = get_weights(counts)\n",
    "        means = get_means(data, resp, counts)\n",
    "        covariances = get_covariances(data, resp, counts, means)\n",
    "        ll_new = get_log_likelihood(data, weights, means, covariances)\n",
    "        ll_list.append(ll_new)\n",
    "        if (ll_new - ll) < thresh and ll_new > -np.inf:\n",
    "            break\n",
    "        ll = ll_new\n",
    "    out = {'weights': weights, 'means': means, 'covariances': covariances, 'loglikelihood': ll_list, 'responsibility': resp}\n",
    "    return out"
   ]
  },
  {
   "cell_type": "code",
   "execution_count": null,
   "metadata": {},
   "outputs": [],
   "source": [
    "def EM_initializer_from_responsibility(data, resp) :\n",
    "    counts = get_soft_counts(resp)\n",
    "    weights = get_weights(counts)\n",
    "    means = get_means(data, resp, counts)\n",
    "    covariances = get_covariances(data, resp, counts, means)\n",
    "    return mean, covariancesriances, weights"
   ]
  },
  {
   "cell_type": "code",
   "execution_count": 2,
   "metadata": {},
   "outputs": [
    {
     "name": "stdout",
     "output_type": "stream",
     "text": [
      "[[1.         2.23606798 5.65685425]\n",
      " [3.60555128 5.         2.82842712]]\n"
     ]
    }
   ],
   "source": [
    "def pairwse_euclidean_dis(data, centroids) :\n",
    "    assert data.shape[1] == centroids.shape[1]\n",
    "    dis_list = list(map(lambda centroid : (np.sum((data - centroid)**2, axis=1)**0.5)[:, np.newaxis], centroids))\n",
    "    return np.concatenate(dis_list, axis=1)\n",
    "# End\n",
    "a=np.array([[1,2],[3,4]])\n",
    "c=np.array([[1,1],[0,0],[5,6]])\n",
    "print(pairwse_euclidean_dis(a,c))"
   ]
  },
  {
   "cell_type": "code",
   "execution_count": 4,
   "metadata": {},
   "outputs": [],
   "source": [
    "def assign_clusters(data, centroids):\n",
    "    distances_from_centroids = pairwse_euclidean_dis(data, centroids)\n",
    "    cluster_assignment = np.argmin(distances_from_centroids,axis=1)\n",
    "    return cluster_assignment"
   ]
  },
  {
   "cell_type": "code",
   "execution_count": 5,
   "metadata": {},
   "outputs": [
    {
     "name": "stdout",
     "output_type": "stream",
     "text": [
      "[0 1 0]\n"
     ]
    }
   ],
   "source": [
    "data = np.array([[1., 2., 0.],\n",
    "                 [0., 0., 0.],\n",
    "                 [2., 2., 0.]])\n",
    "centroids = np.array([[0.5, 0.5, 0.],\n",
    "                      [0., -0.5, 0.]])\n",
    "cluster_assignment = assign_clusters(data, centroids)\n",
    "print(cluster_assignment)"
   ]
  },
  {
   "cell_type": "code",
   "execution_count": 15,
   "metadata": {},
   "outputs": [],
   "source": [
    "def update_centroids(data, k, cluster_assignment):\n",
    "    new_centroids = []\n",
    "    for i in range(k):\n",
    "        cluster_points = data[cluster_assignment==i]\n",
    "        print(cluster_points)\n",
    "        centroid = cluster_points.mean(axis=0)\n",
    "        centroid = centroid.ravel()\n",
    "        new_centroids.append(centroid)\n",
    "    return np.array(new_centroids)"
   ]
  },
  {
   "cell_type": "code",
   "execution_count": 16,
   "metadata": {},
   "outputs": [],
   "source": [
    "def get_heterogeneity(data, k, centroids, cluster_assignment):\n",
    "    heterogeneity = 0.0\n",
    "    for i in range(k):\n",
    "        cluster_points = data[cluster_assignment==i, :]\n",
    "        if cluster_points.shape[0] > 0: # check if i-th cluster is non-empty\n",
    "            distances = pairwse_euclidean_dis(cluster_points, [centroids[i]])\n",
    "            squared_distances = distances**2\n",
    "            heterogeneity += np.sum(squared_distances)\n",
    "    return heterogeneity"
   ]
  },
  {
   "cell_type": "code",
   "execution_count": 17,
   "metadata": {},
   "outputs": [],
   "source": [
    "def k_meanpp_initialize(data, k, seed=None):\n",
    "    if seed is not None: # useful for obtaining consistent results\n",
    "        np.random.seed(seed)\n",
    "    dimension = data.shape[1]\n",
    "    centroids = np.zeros((k, dimension))\n",
    "    init_cen = np.random.randint(data.shape[0])\n",
    "    centroids[0] = data[init_cen]\n",
    "    #need to flatten() because it will remove extra dimension returned by pairwise distances used later in devide\n",
    "    squared_distances = pairwse_euclidean_dis(data, centroids[0:1]).flatten()**2\n",
    "    for i in range(1, k):\n",
    "        # np.random.choice(range of numbers, size, probablity) pick the number from range of number whose assiciate\n",
    "        # probablity is higher given in p list\n",
    "        id_centroids = np.random.choice(data.shape[0], 1, p=squared_distances/sum(squared_distances))\n",
    "        centroids[i] = data[id_centroids]\n",
    "        squared_distances = np.min(pairwse_euclidean_dis(data, centroids[0:i+1])**2,axis=1)\n",
    "    return centroids"
   ]
  },
  {
   "cell_type": "code",
   "execution_count": 20,
   "metadata": {},
   "outputs": [],
   "source": [
    "def kmeans(data, k, initial_centroids, maxiter=1000):\n",
    "    centroids = initial_centroids[:]\n",
    "    prev_cluster_assignment = None \n",
    "    for itr in range(maxiter):        \n",
    "        cluster_assignment = assign_clusters(data, centroids)\n",
    "        centroids = update_centroids(data, k, cluster_assignment)\n",
    "        # if no changes detected\n",
    "        if prev_cluster_assignment is not None and (prev_cluster_assignment==cluster_assignment).all():\n",
    "            break\n",
    "        prev_cluster_assignment = cluster_assignment[:]\n",
    "    return centroids, cluster_assignment"
   ]
  },
  {
   "cell_type": "code",
   "execution_count": 13,
   "metadata": {},
   "outputs": [
    {
     "name": "stdout",
     "output_type": "stream",
     "text": [
      "[0 1 0]\n",
      "[[1. 2. 0.]\n",
      " [2. 2. 0.]]\n",
      "[[0. 0. 0.]]\n",
      "[[1.5 2.  0. ]\n",
      " [0.  0.  0. ]]\n"
     ]
    }
   ],
   "source": [
    "data = np.array([[1., 2., 0.],\n",
    "                 [0., 0., 0.],\n",
    "                 [2., 2., 0.]])\n",
    "centroids = np.array([[0.5, 0.5, 0.],\n",
    "                      [0., -0.5, 0.]])\n",
    "cluster_assignment = assign_clusters(data, centroids)\n",
    "print(cluster_assignment)\n",
    "k=2\n",
    "print(update_centroids(data, k, cluster_assignment))"
   ]
  },
  {
   "cell_type": "code",
   "execution_count": 67,
   "metadata": {},
   "outputs": [],
   "source": [
    "# test \n",
    "def generate_MoG_data(num_data, means, covariances, weights):\n",
    "    \"\"\" Creates a list of data points \"\"\"\n",
    "    num_clusters = len(weights)\n",
    "    data = []\n",
    "    for i in range(num_data):\n",
    "        #  Use np.random.choice and weights to pick a cluster id greater than or equal to 0 and less than num_clusters.\n",
    "        k = np.random.choice(len(weights), 1, p=weights)[0]\n",
    "\n",
    "        # Use np.random.multivariate_normal to create data from this cluster\n",
    "        x = np.random.multivariate_normal(means[k], covariances[k])\n",
    "\n",
    "        data.append(x)\n",
    "    return data\n",
    "# Model parameters\n",
    "init_means = [\n",
    "    [5, 0], # mean of cluster 1\n",
    "    [1, 1], # mean of cluster 2\n",
    "    [0, 5]  # mean of cluster 3\n",
    "]\n",
    "init_covariances = [\n",
    "    [[.5, 0.], [0, .5]], # covariance of cluster 1\n",
    "    [[.92, .38], [.38, .91]], # covariance of cluster 2\n",
    "    [[.5, 0.], [0, .5]]  # covariance of cluster 3\n",
    "]\n",
    "init_weights = [1/4., 1/2., 1/4.]  # weights of each cluster\n",
    "\n",
    "# Generate data\n",
    "np.random.seed(4)\n",
    "data = generate_MoG_data(100, init_means, init_covariances, init_weights)"
   ]
  },
  {
   "cell_type": "code",
   "execution_count": 68,
   "metadata": {},
   "outputs": [
    {
     "data": {
      "image/png": "[encoded data removed]",
      "text/plain": [
       "<Figure size 432x288 with 1 Axes>"
      ]
     },
     "metadata": {
      "needs_background": "light"
     },
     "output_type": "display_data"
    }
   ],
   "source": [
    "plt.figure()\n",
    "d = np.vstack(data)\n",
    "plt.plot(d[:,0], d[:,1],'ko')\n",
    "plt.rcParams.update({'font.size':16})\n",
    "plt.tight_layout()"
   ]
  },
  {
   "cell_type": "code",
   "execution_count": 69,
   "metadata": {},
   "outputs": [
    {
     "name": "stdout",
     "output_type": "stream",
     "text": [
      "Iteration 0\n",
      "Iteration 5\n",
      "Iteration 10\n",
      "Iteration 15\n",
      "Iteration 20\n"
     ]
    }
   ],
   "source": [
    "np.random.seed(4)\n",
    "\n",
    "# Initialization of parameters\n",
    "chosen = np.random.choice(len(data), 3, replace=False)\n",
    "initial_means = [data[x] for x in chosen]\n",
    "initial_covs = [np.cov(data, rowvar=0)] * 3\n",
    "initial_weights = [1/3.] * 3\n",
    "\n",
    "# Run EM \n",
    "results = EM(data, initial_means, initial_covs, initial_weights)"
   ]
  },
  {
   "cell_type": "code",
   "execution_count": 70,
   "metadata": {},
   "outputs": [
    {
     "data": {
      "text/plain": [
       "{'weights': array([0.30071023, 0.1799371 , 0.51935267]),\n",
       " 'means': array([[0.02138285, 4.947729  ],\n",
       "        [4.94239235, 0.31365311],\n",
       "        [1.08181125, 0.73903508]]),\n",
       " 'covariances': array([[[ 0.2932614 ,  0.05048455],\n",
       "         [ 0.05048455,  0.35281537]],\n",
       " \n",
       "        [[ 0.3556437 , -0.01494875],\n",
       "         [-0.01494875,  0.66695025]],\n",
       " \n",
       "        [[ 0.67114992,  0.33058965],\n",
       "         [ 0.33058965,  0.90429724]]]),\n",
       " 'loglikelihood': [-541.3161248036661,\n",
       "  -372.1355927865928,\n",
       "  -366.99356972063583,\n",
       "  -365.6599199288502,\n",
       "  -364.33486476974326,\n",
       "  -362.87960460172394,\n",
       "  -361.37504027778317,\n",
       "  -359.7842225540678,\n",
       "  -357.8348658169412,\n",
       "  -354.4429407838179,\n",
       "  -347.33757513783434,\n",
       "  -338.9500319134904,\n",
       "  -336.1926973689691,\n",
       "  -333.8130318590334,\n",
       "  -329.78761702083597,\n",
       "  -323.15808549033756,\n",
       "  -319.5204134763917,\n",
       "  -319.1101542516828,\n",
       "  -318.91107575136516,\n",
       "  -318.8437574328325,\n",
       "  -318.8321411837265,\n",
       "  -318.83092993526367,\n",
       "  -318.830829251483,\n",
       "  -318.83082148560914],\n",
       " 'responsibility': array([[9.99999759e-01, 8.58553202e-21, 2.41461676e-07],\n",
       "        [1.89151875e-07, 6.43625666e-09, 9.99999804e-01],\n",
       "        [9.99917305e-01, 1.20873389e-15, 8.26945189e-05],\n",
       "        [6.50111217e-48, 9.99999998e-01, 2.43432246e-09],\n",
       "        [1.49015362e-37, 9.99997957e-01, 2.04312576e-06],\n",
       "        [9.99999179e-01, 8.38234505e-20, 8.20559956e-07],\n",
       "        [9.99999986e-01, 9.99649454e-24, 1.38787751e-08],\n",
       "        [2.89792417e-31, 9.99774583e-01, 2.25417165e-04],\n",
       "        [5.81407428e-25, 4.97411853e-07, 9.99999503e-01],\n",
       "        [9.99999997e-01, 1.07663063e-26, 2.71629444e-09],\n",
       "        [5.89201252e-36, 9.99999694e-01, 3.06220884e-07],\n",
       "        [5.64912615e-22, 9.84694563e-15, 1.00000000e+00],\n",
       "        [1.86280874e-13, 1.18616902e-17, 1.00000000e+00],\n",
       "        [6.87170441e-53, 9.99999999e-01, 9.41893483e-10],\n",
       "        [7.35308368e-20, 8.57619648e-08, 9.99999914e-01],\n",
       "        [2.99588585e-08, 1.58421539e-11, 9.99999970e-01],\n",
       "        [6.15631664e-18, 4.62870574e-07, 9.99999537e-01],\n",
       "        [3.72511683e-35, 9.99997778e-01, 2.22175611e-06],\n",
       "        [9.99996905e-01, 1.33561215e-18, 3.09455707e-06],\n",
       "        [4.07891635e-22, 7.93054314e-09, 9.99999992e-01],\n",
       "        [9.99999998e-01, 2.11159848e-23, 2.33590990e-09],\n",
       "        [1.47316849e-28, 9.98185707e-01, 1.81429280e-03],\n",
       "        [2.83633286e-08, 4.21106017e-13, 9.99999972e-01],\n",
       "        [3.31771764e-15, 5.44821647e-09, 9.99999995e-01],\n",
       "        [1.46397326e-24, 9.88268696e-01, 1.17313041e-02],\n",
       "        [1.00000000e+00, 2.28521932e-25, 6.96334746e-11],\n",
       "        [3.70201173e-07, 2.06139766e-13, 9.99999630e-01],\n",
       "        [9.99998981e-01, 2.81355605e-19, 1.01902736e-06],\n",
       "        [2.12645023e-15, 8.30828415e-07, 9.99999169e-01],\n",
       "        [9.99999968e-01, 5.17935332e-26, 3.23584740e-08],\n",
       "        [5.74366731e-23, 2.33965602e-13, 1.00000000e+00],\n",
       "        [1.50345113e-17, 6.77868219e-05, 9.99932213e-01],\n",
       "        [9.65599985e-10, 1.18054307e-08, 9.99999987e-01],\n",
       "        [1.52288254e-12, 9.33659336e-16, 1.00000000e+00],\n",
       "        [8.17003726e-15, 1.22447882e-09, 9.99999999e-01],\n",
       "        [4.08783323e-41, 9.99999977e-01, 2.25936254e-08],\n",
       "        [3.85400765e-09, 4.51980990e-12, 9.99999996e-01],\n",
       "        [9.99999687e-01, 9.18383714e-22, 3.12995862e-07],\n",
       "        [9.15251382e-33, 9.99997069e-01, 2.93065911e-06],\n",
       "        [2.25410568e-11, 1.63341611e-04, 9.99836658e-01],\n",
       "        [9.99993975e-01, 8.19389642e-20, 6.02522618e-06],\n",
       "        [6.39279357e-18, 4.58625709e-15, 1.00000000e+00],\n",
       "        [5.67427895e-11, 3.49641685e-12, 1.00000000e+00],\n",
       "        [1.58168933e-16, 2.51474018e-06, 9.99997485e-01],\n",
       "        [9.99995691e-01, 1.40794083e-19, 4.30938578e-06],\n",
       "        [9.99999989e-01, 9.57550918e-22, 1.12837398e-08],\n",
       "        [4.79804885e-13, 9.01217424e-03, 9.90987826e-01],\n",
       "        [9.99999292e-01, 4.25294925e-25, 7.07525434e-07],\n",
       "        [9.99994269e-01, 3.27893869e-20, 5.73137259e-06],\n",
       "        [9.99999995e-01, 5.92136914e-23, 5.26023654e-09],\n",
       "        [9.99999807e-01, 3.02370185e-23, 1.92588359e-07],\n",
       "        [4.04788365e-15, 4.09473385e-05, 9.99959053e-01],\n",
       "        [2.30411308e-38, 9.99999114e-01, 8.86087729e-07],\n",
       "        [3.15503125e-09, 7.00036654e-12, 9.99999997e-01],\n",
       "        [5.45141105e-13, 1.66656191e-13, 1.00000000e+00],\n",
       "        [5.12723573e-07, 3.23721993e-11, 9.99999487e-01],\n",
       "        [9.99990596e-01, 2.14974156e-21, 9.40378643e-06],\n",
       "        [2.26833334e-15, 1.01980756e-12, 1.00000000e+00],\n",
       "        [9.99999766e-01, 2.38666944e-23, 2.34247655e-07],\n",
       "        [4.09251449e-33, 9.99989171e-01, 1.08288019e-05],\n",
       "        [2.60483705e-12, 1.25774766e-07, 9.99999874e-01],\n",
       "        [2.08383416e-19, 4.66087547e-08, 9.99999953e-01],\n",
       "        [8.20840736e-44, 9.99999993e-01, 6.78805061e-09],\n",
       "        [2.63969957e-15, 2.14076390e-23, 1.00000000e+00],\n",
       "        [9.99999998e-01, 5.07226622e-24, 2.31880090e-09],\n",
       "        [9.98719899e-01, 6.45728670e-13, 1.28010059e-03],\n",
       "        [2.00812015e-47, 9.99999999e-01, 5.38884982e-10],\n",
       "        [2.84841407e-12, 1.58389486e-07, 9.99999842e-01],\n",
       "        [3.07177537e-40, 9.99999569e-01, 4.30548648e-07],\n",
       "        [1.04480329e-24, 6.07468177e-11, 1.00000000e+00],\n",
       "        [1.92219860e-15, 1.09747730e-07, 9.99999890e-01],\n",
       "        [9.99999980e-01, 7.50833056e-24, 1.96187844e-08],\n",
       "        [9.99999984e-01, 2.21876937e-26, 1.56096121e-08],\n",
       "        [1.26889224e-10, 3.63084436e-09, 9.99999996e-01],\n",
       "        [1.32676420e-07, 1.47653723e-07, 9.99999720e-01],\n",
       "        [7.24614613e-02, 5.14687003e-11, 9.27538539e-01],\n",
       "        [9.99975362e-01, 1.06731633e-20, 2.46379506e-05],\n",
       "        [5.61381778e-14, 1.88403807e-08, 9.99999981e-01],\n",
       "        [2.94580983e-16, 4.44621662e-05, 9.99955538e-01],\n",
       "        [1.14296539e-15, 6.91476079e-14, 1.00000000e+00],\n",
       "        [1.00000000e+00, 7.60450576e-26, 2.06640677e-10],\n",
       "        [4.28453293e-25, 9.98175656e-01, 1.82434433e-03],\n",
       "        [1.44327294e-12, 5.72572900e-13, 1.00000000e+00],\n",
       "        [1.00000000e+00, 2.47949191e-29, 1.87867156e-11],\n",
       "        [5.35480189e-26, 1.34428776e-19, 1.00000000e+00],\n",
       "        [2.14838894e-15, 9.28885343e-07, 9.99999071e-01],\n",
       "        [7.34429388e-13, 1.80864089e-10, 1.00000000e+00],\n",
       "        [7.78050403e-14, 4.82899694e-13, 1.00000000e+00],\n",
       "        [9.99980187e-01, 5.01406450e-22, 1.98131388e-05],\n",
       "        [8.88191460e-14, 1.08607013e-10, 1.00000000e+00],\n",
       "        [1.53285230e-15, 3.02889990e-10, 1.00000000e+00],\n",
       "        [6.83530345e-14, 1.03419106e-09, 9.99999999e-01],\n",
       "        [9.99999817e-01, 6.54173382e-22, 1.82692001e-07],\n",
       "        [5.14218701e-11, 8.97318315e-08, 9.99999910e-01],\n",
       "        [3.75610611e-10, 6.89241121e-11, 1.00000000e+00],\n",
       "        [1.78848081e-45, 9.99999998e-01, 1.92481289e-09],\n",
       "        [9.99999900e-01, 1.61612866e-20, 9.96116683e-08],\n",
       "        [9.95116804e-33, 9.99990338e-01, 9.66157114e-06],\n",
       "        [2.23644165e-14, 1.30477448e-15, 1.00000000e+00],\n",
       "        [2.86853532e-13, 8.86453592e-09, 9.99999991e-01]])}"
      ]
     },
     "execution_count": 70,
     "metadata": {},
     "output_type": "execute_result"
    }
   ],
   "source": [
    "results"
   ]
  },
  {
   "cell_type": "code",
   "execution_count": null,
   "metadata": {},
   "outputs": [],
   "source": []
  },
  {
   "cell_type": "code",
   "execution_count": null,
   "metadata": {},
   "outputs": [],
   "source": []
  }
 ],
 "metadata": {
  "kernelspec": {
   "display_name": "Python 3",
   "language": "python",
   "name": "python3"
  },
  "language_info": {
   "codemirror_mode": {
    "name": "ipython",
    "version": 3
   },
   "file_extension": ".py",
   "mimetype": "text/x-python",
   "name": "python",
   "nbconvert_exporter": "python",
   "pygments_lexer": "ipython3",
   "version": "3.7.3"
  }
 },
 "nbformat": 4,
 "nbformat_minor": 2
}
